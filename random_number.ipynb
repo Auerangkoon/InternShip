{
 "cells": [
  {
   "cell_type": "code",
   "execution_count": 8,
   "id": "181dd117",
   "metadata": {},
   "outputs": [
    {
     "name": "stdout",
     "output_type": "stream",
     "text": [
      "0735473490\n",
      "0922690583\n",
      "0724669161\n",
      "0699757724\n",
      "0777810827\n",
      "0859547211\n",
      "0944344087\n",
      "0877974545\n",
      "0932015224\n",
      "0657578990\n"
     ]
    }
   ],
   "source": [
    "import random\n",
    "\n",
    "def generate_thai_phone_number():\n",
    "    first_digit = '0'\n",
    "    second_digit = str(random.randint(6, 9))\n",
    "    number = ''.join(str(random.randint(0, 9)) for _ in range(8))\n",
    "    return f\"{first_digit}{second_digit}{number}\"\n",
    "\n",
    "# สร้างเบอร์โทรศัพท์ไทย 10 หลักแบบสุ่ม\n",
    "for _ in range(10):  # สร้าง 5 เบอร์\n",
    "    print(generate_thai_phone_number())\n"
   ]
  },
  {
   "cell_type": "code",
   "execution_count": null,
   "id": "81ec1fe6",
   "metadata": {},
   "outputs": [],
   "source": []
  }
 ],
 "metadata": {
  "kernelspec": {
   "display_name": "Python 3 (ipykernel)",
   "language": "python",
   "name": "python3"
  },
  "language_info": {
   "codemirror_mode": {
    "name": "ipython",
    "version": 3
   },
   "file_extension": ".py",
   "mimetype": "text/x-python",
   "name": "python",
   "nbconvert_exporter": "python",
   "pygments_lexer": "ipython3",
   "version": "3.11.5"
  }
 },
 "nbformat": 4,
 "nbformat_minor": 5
}
