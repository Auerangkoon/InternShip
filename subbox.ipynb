{
 "cells": [
  {
   "cell_type": "markdown",
   "id": "23b55fc0",
   "metadata": {},
   "source": [
    "## Subbox"
   ]
  },
  {
   "cell_type": "code",
   "execution_count": 13,
   "id": "b417244b",
   "metadata": {
    "scrolled": true
   },
   "outputs": [
    {
     "ename": "ModuleNotFoundError",
     "evalue": "No module named 'ipynb.fs.full.signGen'",
     "output_type": "error",
     "traceback": [
      "\u001b[1;31m---------------------------------------------------------------------------\u001b[0m",
      "\u001b[1;31mModuleNotFoundError\u001b[0m                       Traceback (most recent call last)",
      "Cell \u001b[1;32mIn[13], line 5\u001b[0m\n\u001b[0;32m      3\u001b[0m \u001b[38;5;28;01mimport\u001b[39;00m \u001b[38;5;21;01mrandom\u001b[39;00m\n\u001b[0;32m      4\u001b[0m \u001b[38;5;66;03m# import from relate work\u001b[39;00m\n\u001b[1;32m----> 5\u001b[0m \u001b[38;5;28;01mfrom\u001b[39;00m \u001b[38;5;21;01mipynb\u001b[39;00m\u001b[38;5;21;01m.\u001b[39;00m\u001b[38;5;21;01mfs\u001b[39;00m\u001b[38;5;21;01m.\u001b[39;00m\u001b[38;5;21;01mfull\u001b[39;00m\u001b[38;5;21;01m.\u001b[39;00m\u001b[38;5;21;01msignGen\u001b[39;00m \u001b[38;5;28;01mimport\u001b[39;00m signGen\n\u001b[0;32m      6\u001b[0m \u001b[38;5;28;01mfrom\u001b[39;00m \u001b[38;5;21;01mipynb\u001b[39;00m\u001b[38;5;21;01m.\u001b[39;00m\u001b[38;5;21;01mfs\u001b[39;00m\u001b[38;5;21;01m.\u001b[39;00m\u001b[38;5;21;01mfull\u001b[39;00m\u001b[38;5;21;01m.\u001b[39;00m\u001b[38;5;21;01mtext_to_image\u001b[39;00m \u001b[38;5;28;01mimport\u001b[39;00m textToImage\n\u001b[0;32m      7\u001b[0m \u001b[38;5;28;01mimport\u001b[39;00m \u001b[38;5;21;01mDate_Random\u001b[39;00m\n",
      "\u001b[1;31mModuleNotFoundError\u001b[0m: No module named 'ipynb.fs.full.signGen'"
     ]
    }
   ],
   "source": [
    "from PIL import Image, ImageDraw, ImageFont\n",
    "import import_ipynb\n",
    "import random\n",
    "# import from relate work\n",
    "from ipynb.fs.full.signGen import signGen\n",
    "from ipynb.fs.full.text_to_image import textToImage\n",
    "import Date_Random\n",
    "\n",
    "def mergeSubbox(bbox, closing_word_txt, name_title, name_txt, job_position_txt):\n",
    "    # init\n",
    "    sign_flag = False\n",
    "    content_height = 50\n",
    "    img_width = []\n",
    "    font_size = 50\n",
    "    fullname = name_title + ' ' + name_txt\n",
    "    # find width, height\n",
    "    width = bbox[1] - bbox[0]\n",
    "    height = bbox[3] - bbox[2]\n",
    "    # create blank image\n",
    "    image = Image.new('RGB', (width, height), 'white')\n",
    "    \n",
    "    #ส่วนคำลงท้าย\n",
    "    if(random.choice((True, False))):\n",
    "        closing_word = textToImage([0,400,content_height, content_height+100], closing_word_txt, './standard/th/THSarabun.ttf',font_size, 1)\n",
    "        closing_word_image = closing_word['image_obj']\n",
    "        image.paste(closing_word_image, (int((width - closing_word_image.size[0])/2), content_height))\n",
    "        content_height += closing_word_image.size[1]\n",
    "    \n",
    "    #ส่วนลายเซ็น\n",
    "    if(random.choice((True, False))) : # sign?\n",
    "        sign_flag = True\n",
    "        txt_to_sign = random.choice((True, False)) # ใช้ลายมือชื่อไหม?\n",
    "        if (txt_to_sign) :\n",
    "            sign = signGen([0,400,content_height,content_height+200], name_txt, './handwriting/th/Sriracha-Regular.ttf', 100, range(-3,3), 15)\n",
    "            sign_image = sign['image_obj']\n",
    "            bb_sign = [int((width - sign_image.size[0])/2),int((width - sign_image.size[0])/2)+sign_image.size[0]\n",
    "                       , content_height, content_height+ sign_image.size[1]]\n",
    "            image.paste(sign_image, (int((width - sign_image.size[0])/2), content_height))\n",
    "            content_height += 150\n",
    "        else :\n",
    "            path=\"./sign_img\"\n",
    "            files=os.listdir(path)\n",
    "            img_file=random.choice(files)\n",
    "            sign = Image.open(path+ '/' + img_file)  \n",
    "            sign = sign.resize((400,150))\n",
    "            bb_sign = [0,400\n",
    "                       , content_height, sign.size[1]]\n",
    "            image.paste(sign, (0, content_height))\n",
    "            content_height += 150\n",
    "    else:\n",
    "        bb_sign = [0,400,content_height,content_height+200]\n",
    "        content_height += 150\n",
    "    \n",
    "    #ส่วนคำนำหน้า+ชื่อ\n",
    "    name = textToImage([0,400,content_height,content_height+100], fullname, './standard/th/THSarabun.ttf',font_size, 1)\n",
    "    name_image = name['image_obj']\n",
    "    bb_name = [int((width - name_image.size[0])/2), int((width - name_image.size[0])/2)+name_image.size[0]\n",
    "               , content_height, content_height+name_image.size[1]]\n",
    "    image.paste(name_image, (int((width - name_image.size[0])/2), content_height))\n",
    "    content_height += name_image.size[1]\n",
    "    \n",
    "    #ส่วนตำแหน่งงาน\n",
    "    job_position = textToImage([0,400,content_height,content_height+100], job_position_txt, './standard/th/THSarabun.ttf',font_size, 1)\n",
    "    job_position_image = job_position['image_obj']\n",
    "    bb_job_position = [int((width - job_position_image.size[0])/2), int((width - job_position_image.size[0])/2)+job_position_image.size[0]\n",
    "                       , content_height, content_height+job_position_image.size[1]]\n",
    "    image.paste(job_position_image, (int((width - job_position_image.size[0])/2), content_height))\n",
    "    content_height += job_position_image.size[1]\n",
    "    \n",
    "    #ส่วนวันที่\n",
    "    date = Date_Random.Gen_Date()\n",
    "    random_date = textToImage([0,400,content_height,content_height+100], date['text'], './standard/th/THSarabun.ttf',font_size, 1)\n",
    "    random_date_image = random_date['image_obj']\n",
    "    bb_date = [int((width - random_date_image.size[0])/2), int((width - random_date_image.size[0])/2)+random_date_image.size[0]\n",
    "               , content_height, content_height+random_date_image.size[1]]\n",
    "    image.paste(random_date_image, (int((width - random_date_image.size[0])/2), content_height))\n",
    "    content_height += random_date_image.size[1]\n",
    "    \n",
    "    #ส่วนของการอนุมัติ\n",
    "    approve_word = ['ผู้อนุมัติ', 'ผู้นำเสนอ', 'ผู้ซื้อ', 'ผู้สั่งซื้อ']\n",
    "    approve_word = random.choice((approve_word))\n",
    "    approve = textToImage([0,400,content_height,content_height+100], approve_word, './standard/th/THSarabun.ttf',font_size, 1)\n",
    "    approve_image = approve['image_obj']\n",
    "    bb_approve = [int(width - approve_image.size[0])/2, int(width - approve_image.size[0])+approve_image.size[0]\n",
    "                  , content_height,content_height+approve_image.size[1]]\n",
    "    image.paste(approve_image, (int((width - approve_image.size[0])/2), content_height))\n",
    "    content_height += approve_image.size[1]\n",
    "    \n",
    "    #ส่วนของการเบอร์โทร\n",
    "    ph_no = '0'\n",
    "    ph_no += str(random.choice((2, 8, 9)))\n",
    "    for i in range(0, 8):\n",
    "        ph_no +=  str(random.randint(0, 9))\n",
    "    phone_num = textToImage([0,400,content_height,content_height+100], ph_no, './standard/th/THSarabun.ttf',font_size, 1)\n",
    "    phone_num_image = phone_num['image_obj']\n",
    "    bb_phone_num = [int((width - phone_num_image.size[0])/2), int((width - phone_num_image.size[0])/2)+phone_num_image.size[0]\n",
    "                    , content_height, content_height+50]\n",
    "    image.paste(phone_num_image, (int((width - phone_num_image.size[0])/2), content_height))\n",
    "    content_height += phone_num_image.size[1]\n",
    "    \n",
    "    #Dict for Return\n",
    "    out = {'image_obj':image, 'bbox':bbox\n",
    "           , 'bb_sign':bb_sign, 'sign':sign_flag\n",
    "           , 'bb_name':bb_name, 'name':name_txt\n",
    "           , 'bb_jobposition':bb_job_position, 'jobposition_name':job_position_txt\n",
    "           , 'bb_approve':bb_approve, 'approve_word':approve_word\n",
    "           , 'bb_phone':bb_phone_num, 'phone_num':ph_no\n",
    "           , 'bb_date':bb_date, 'date':date['text']}\n",
    "    return out"
   ]
  },
  {
   "cell_type": "markdown",
   "id": "14ad46d4",
   "metadata": {},
   "source": [
    "## Random Input For Sign"
   ]
  },
  {
   "cell_type": "code",
   "execution_count": 2,
   "id": "d04965b9",
   "metadata": {},
   "outputs": [],
   "source": [
    "import pandas as pd\n",
    "import os\n",
    "\n",
    "def randomForSign():\n",
    "    # Read Data\n",
    "    df_name_eng = pd.read_csv('Name Eng.csv')\n",
    "    df_name_thai = pd.read_csv('Name_th.csv', header=None)\n",
    "    df_closing_word = pd.read_csv('Closing_word.csv', header=None)\n",
    "    df_jobName = pd.read_excel('JobName.xlsx')\n",
    "    df_nametitle = pd.read_csv('NameTitle.csv', header=None)\n",
    "    # Processing Data\n",
    "    df_name_eng = df_name_eng.rename(columns={'Name Eng':'name'})\n",
    "    df_name_thai = df_name_thai.rename(columns={0:'name'})\n",
    "    df_closing_word = df_closing_word.rename(columns={0:'closing_word'})\n",
    "    df_name = pd.concat([df_name_eng, df_name_thai])\n",
    "    df_jobName = df_jobName.stack().reset_index()\n",
    "    df_nametitle = df_nametitle.rename(columns={0:'nametitle'})\n",
    "    # DataFrame To List\n",
    "    list_closing_word = df_closing_word['closing_word'].values.tolist()\n",
    "    list_name = df_name['name'].values.tolist()\n",
    "    list_jobname = df_jobName[0].values.tolist()\n",
    "    list_nametitle = df_nametitle['nametitle'].values.tolist()\n",
    "    # Random\n",
    "    closing_word = random.choice(list_closing_word)\n",
    "    name = random.choice(list_name)\n",
    "    name_title = random.choice(list_nametitle)\n",
    "    jobname = random.choice(list_jobname)\n",
    "    return closing_word, name_title, name, jobname"
   ]
  },
  {
   "cell_type": "code",
   "execution_count": 3,
   "id": "3c99dfeb",
   "metadata": {},
   "outputs": [
    {
     "data": {
      "image/png": "[encoded data removed]",
      "text/plain": [
       "<PIL.Image.Image image mode=RGB size=402x602>"
      ]
     },
     "execution_count": 3,
     "metadata": {},
     "output_type": "execute_result"
    }
   ],
   "source": [
    "from PIL import Image, ImageOps\n",
    "\n",
    "closing_word, name_title, name, jobname = randomForSign()\n",
    "\n",
    "out = mergeSubbox([0,400,0,600], closing_word, name_title, name,  jobname)\n",
    "ImageOps.expand(out['image_obj'], border=1, fill='black')"
   ]
  },
  {
   "cell_type": "code",
   "execution_count": null,
   "id": "afbf5395",
   "metadata": {},
   "outputs": [],
   "source": []
  }
 ],
 "metadata": {
  "kernelspec": {
   "display_name": "Python 3 (ipykernel)",
   "language": "python",
   "name": "python3"
  },
  "language_info": {
   "codemirror_mode": {
    "name": "ipython",
    "version": 3
   },
   "file_extension": ".py",
   "mimetype": "text/x-python",
   "name": "python",
   "nbconvert_exporter": "python",
   "pygments_lexer": "ipython3",
   "version": "3.11.5"
  }
 },
 "nbformat": 4,
 "nbformat_minor": 5
}
