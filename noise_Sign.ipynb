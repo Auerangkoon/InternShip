{
 "cells": [
  {
   "cell_type": "markdown",
   "id": "01450436",
   "metadata": {},
   "source": [
    "## noise SignGen เพิ่มขีดเเบบสุ่ม ##"
   ]
  },
  {
   "cell_type": "code",
   "execution_count": 3,
   "id": "af3247ff",
   "metadata": {},
   "outputs": [],
   "source": [
    "from PIL import Image, ImageDraw, ImageFont\n",
    "import random\n",
    "def signGen(list_position, message, font_name, size): #list:list_position, message:str, font_name:str, size:int\n",
    "    # init image size\n",
    "    W = list_position[1] - list_position[0]\n",
    "    H = list_position[3] - list_position[2]\n",
    "    image_size = (W, H)\n",
    "    # load font\n",
    "    font = ImageFont.truetype(font_name, size)\n",
    "    if font.getsize(message)[0] < W: # Normal Case\n",
    "        # create blank image\n",
    "        image = Image.new('RGB', image_size, 'white')\n",
    "        draw = ImageDraw.Draw(image)\n",
    "        for _ in range(10):\n",
    "            x1 = random.randint(0, image.size[0])\n",
    "            y1 = random.randint(0, image.size[1])\n",
    "            x2 = random.randint(0, image.size[0])\n",
    "            y2 = random.randint(0, image.size[1])\n",
    "            draw.line([(x1, y1), (x2, y2)], fill=(0, 0, 0), width=2)\n",
    "        _, _, w, h = draw.textbbox((0, 0), message, font=font)\n",
    "        #write text\n",
    "        draw.text(((image_size[0]-w)/2, (image_size[1]-h)/2), message, font=font, fill='black')\n",
    "    else: # Case Text too long\n",
    "        start_size = 1\n",
    "        # create blank image\n",
    "        image = Image.new('RGB', image_size, 'white')\n",
    "        draw = ImageDraw.Draw(image)\n",
    "        font = ImageFont.truetype(font_name, start_size)\n",
    "        while font.getsize(message)[0] < W:\n",
    "        # iterate until the text size is just larger than the criteria\n",
    "            start_size += 1\n",
    "            font = ImageFont.truetype(font_name, start_size)\n",
    "        start_size -= 1\n",
    "        font = ImageFont.truetype(font_name, start_size)\n",
    "        _, _, w, h = draw.textbbox((0, 0), message, font=font)\n",
    "        draw.text(((image_size[0]-w)/2, (image_size[1]-h)/2), message, font=font, fill='black') \n",
    "        for _ in range(5):\n",
    "            x1 = random.randint(0, image.size[0])\n",
    "            y1 = random.randint(0, image.size[1])\n",
    "            x2 = random.randint(0, image.size[0])\n",
    "            y2 = random.randint(0, image.size[1])\n",
    "            draw.line([(x1, y1), (x2, y2)], fill=(0, 0, 0), width=2)\n",
    "    \n",
    "    image2 = image.convert('RGBA')\n",
    "    # rotated image\n",
    "    rot = image2.rotate(random.choice(range(-8,8)), expand=1)\n",
    "    # a white image same size as rotated image\n",
    "    fff = Image.new('RGBA', rot.size, (255,)*4)\n",
    "    # create a composite image using the alpha layer of rot as a mask\n",
    "    out = Image.composite(rot, fff, rot)\n",
    "    \n",
    "    left = (out.size[0] - font.getsize(message)[0])/2\n",
    "    top = (out.size[1] - font.getsize(message)[1])/2\n",
    "    right = (out.size[0] + font.getsize(message)[0])/2\n",
    "    bottom = (out.size[1] + font.getsize(message)[1])/2\n",
    "    \n",
    "    out = out.crop((left, top-15, right, bottom+15))\n",
    "    return {'image_obj':out,'bb':list_position,'text':message,}"
   ]
  },
  {
   "cell_type": "code",
   "execution_count": 4,
   "id": "8ce4d46e",
   "metadata": {},
   "outputs": [
    {
     "name": "stderr",
     "output_type": "stream",
     "text": [
      "C:\\Users\\alizw\\AppData\\Local\\Temp\\ipykernel_3896\\1805197276.py:10: DeprecationWarning: getsize is deprecated and will be removed in Pillow 10 (2023-07-01). Use getbbox or getlength instead.\n",
      "  if font.getsize(message)[0] < W: # Normal Case\n",
      "C:\\Users\\alizw\\AppData\\Local\\Temp\\ipykernel_3896\\1805197276.py:52: DeprecationWarning: getsize is deprecated and will be removed in Pillow 10 (2023-07-01). Use getbbox or getlength instead.\n",
      "  left = (out.size[0] - font.getsize(message)[0])/2\n",
      "C:\\Users\\alizw\\AppData\\Local\\Temp\\ipykernel_3896\\1805197276.py:53: DeprecationWarning: getsize is deprecated and will be removed in Pillow 10 (2023-07-01). Use getbbox or getlength instead.\n",
      "  top = (out.size[1] - font.getsize(message)[1])/2\n",
      "C:\\Users\\alizw\\AppData\\Local\\Temp\\ipykernel_3896\\1805197276.py:54: DeprecationWarning: getsize is deprecated and will be removed in Pillow 10 (2023-07-01). Use getbbox or getlength instead.\n",
      "  right = (out.size[0] + font.getsize(message)[0])/2\n",
      "C:\\Users\\alizw\\AppData\\Local\\Temp\\ipykernel_3896\\1805197276.py:55: DeprecationWarning: getsize is deprecated and will be removed in Pillow 10 (2023-07-01). Use getbbox or getlength instead.\n",
      "  bottom = (out.size[1] + font.getsize(message)[1])/2\n"
     ]
    },
    {
     "data": {
      "image/png": "[encoded data removed]",
      "text/plain": [
       "<PIL.Image.Image image mode=RGBA size=172x80>"
      ]
     },
     "execution_count": 4,
     "metadata": {},
     "output_type": "execute_result"
    }
   ],
   "source": [
    "out= signGen([0,200,0,200], 'สวัสดีครับผม','./handwriting/th/SOV_MuekMod.ttf', 50)\n",
    "out['image_obj']"
   ]
  },
  {
   "cell_type": "code",
   "execution_count": null,
   "id": "7c57cfe8",
   "metadata": {},
   "outputs": [],
   "source": []
  },
  {
   "cell_type": "code",
   "execution_count": null,
   "id": "0a9222ca",
   "metadata": {},
   "outputs": [],
   "source": []
  }
 ],
 "metadata": {
  "kernelspec": {
   "display_name": "Python 3 (ipykernel)",
   "language": "python",
   "name": "python3"
  },
  "language_info": {
   "codemirror_mode": {
    "name": "ipython",
    "version": 3
   },
   "file_extension": ".py",
   "mimetype": "text/x-python",
   "name": "python",
   "nbconvert_exporter": "python",
   "pygments_lexer": "ipython3",
   "version": "3.11.5"
  }
 },
 "nbformat": 4,
 "nbformat_minor": 5
}
