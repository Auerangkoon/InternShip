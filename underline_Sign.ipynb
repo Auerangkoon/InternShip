{
 "cells": [
  {
   "cell_type": "markdown",
   "id": "68b93590",
   "metadata": {},
   "source": [
    "## SignGen เพิ่มขีดเส้นใต้ ##"
   ]
  },
  {
   "cell_type": "code",
   "execution_count": 3,
   "id": "a863b582",
   "metadata": {},
   "outputs": [],
   "source": [
    "from PIL import Image, ImageDraw, ImageFont\n",
    "import random\n",
    "def signGen1(list_position, message, font_name, size): #list:list_position, message:str, font_name:str, size:int\n",
    "    # init image size\n",
    "    W = list_position[1] - list_position[0]\n",
    "    H = list_position[3] - list_position[2]\n",
    "    image_size = (W, H)\n",
    "    # load font\n",
    "    font = ImageFont.truetype(font_name, size)\n",
    "    if font.getsize(message)[0] < W: # Normal Case\n",
    "        # create blank image\n",
    "        image = Image.new('RGB', image_size, 'white')\n",
    "        draw = ImageDraw.Draw(image)\n",
    "        _, _, w, h = draw.textbbox((0, 0), message, font=font)\n",
    "        #write text\n",
    "        draw.text(((image_size[0]-w)/2, (image_size[1]-h)/2), message, font=font, fill='black')\n",
    "        y = (image_size[1]-h)/2 + h  # กำหนดตำแหน่ง y ให้เริ่มที่ด้านล่างของข้อความ\n",
    "        draw.line([(image_size[0]-w)/2, y, (image_size[0]+w)/2, y], fill='black', width=2) #เพิ่มขีดเส้นใต้\n",
    "    else: # Case Text too long\n",
    "        start_size = 1\n",
    "        # create blank image\n",
    "        image = Image.new('RGB', image_size, 'white')\n",
    "        draw = ImageDraw.Draw(image)\n",
    "        font = ImageFont.truetype(font_name, start_size)\n",
    "        while font.getsize(message)[0] < W:\n",
    "        # iterate until the text size is just larger than the criteria\n",
    "            start_size += 1\n",
    "            font = ImageFont.truetype(font_name, start_size)\n",
    "        start_size -= 1\n",
    "        font = ImageFont.truetype(font_name, start_size)\n",
    "        _, _, w, h = draw.textbbox((0, 0), message, font=font)\n",
    "        draw.text(((image_size[0]-w)/2, (image_size[1]-h)/2), message, font=font, fill='black') \n",
    "        y = (image_size[1]-h)/2 + h  # กำหนดตำแหน่ง y ให้เริ่มที่ด้านล่างของข้อความกรณี resize รูป\n",
    "        draw.line([(image_size[0]-w)/2, y, (image_size[0]+w)/2, y], fill='black', width=2) #เพิ่มขีดเส้นใต้กรณี resize รูป\n",
    "    image2 = image.convert('RGBA')\n",
    "    # rotated image\n",
    "    rot = image2.rotate(random.choice(range(-8,8)), expand=1)\n",
    "    # a white image same size as rotated image\n",
    "    fff = Image.new('RGBA', rot.size, (255,)*4)\n",
    "    # create a composite image using the alpha layer of rot as a mask\n",
    "    out = Image.composite(rot, fff, rot)\n",
    "    \n",
    "    left = (out.size[0] - font.getsize(message)[0])/2\n",
    "    top = (out.size[1] - font.getsize(message)[1])/2\n",
    "    right = (out.size[0] + font.getsize(message)[0])/2\n",
    "    bottom = (out.size[1] + font.getsize(message)[1])/2\n",
    "    \n",
    "    out = out.crop((left, top-15, right, bottom+15))\n",
    "    return {'image_obj':out,'bb':list_position,'text':message,}"
   ]
  },
  {
   "cell_type": "code",
   "execution_count": 4,
   "id": "5eeed20f",
   "metadata": {
    "scrolled": false
   },
   "outputs": [
    {
     "name": "stderr",
     "output_type": "stream",
     "text": [
      "C:\\Users\\alizw\\AppData\\Local\\Temp\\ipykernel_7616\\3431647870.py:10: DeprecationWarning: getsize is deprecated and will be removed in Pillow 10 (2023-07-01). Use getbbox or getlength instead.\n",
      "  if font.getsize(message)[0] < W: # Normal Case\n",
      "C:\\Users\\alizw\\AppData\\Local\\Temp\\ipykernel_7616\\3431647870.py:43: DeprecationWarning: getsize is deprecated and will be removed in Pillow 10 (2023-07-01). Use getbbox or getlength instead.\n",
      "  left = (out.size[0] - font.getsize(message)[0])/2\n",
      "C:\\Users\\alizw\\AppData\\Local\\Temp\\ipykernel_7616\\3431647870.py:44: DeprecationWarning: getsize is deprecated and will be removed in Pillow 10 (2023-07-01). Use getbbox or getlength instead.\n",
      "  top = (out.size[1] - font.getsize(message)[1])/2\n",
      "C:\\Users\\alizw\\AppData\\Local\\Temp\\ipykernel_7616\\3431647870.py:45: DeprecationWarning: getsize is deprecated and will be removed in Pillow 10 (2023-07-01). Use getbbox or getlength instead.\n",
      "  right = (out.size[0] + font.getsize(message)[0])/2\n",
      "C:\\Users\\alizw\\AppData\\Local\\Temp\\ipykernel_7616\\3431647870.py:46: DeprecationWarning: getsize is deprecated and will be removed in Pillow 10 (2023-07-01). Use getbbox or getlength instead.\n",
      "  bottom = (out.size[1] + font.getsize(message)[1])/2\n"
     ]
    },
    {
     "data": {
      "image/png": "[encoded data removed]",
      "text/plain": [
       "<PIL.Image.Image image mode=RGBA size=172x80>"
      ]
     },
     "execution_count": 4,
     "metadata": {},
     "output_type": "execute_result"
    }
   ],
   "source": [
    "out= signGen1([0,200,0,200], 'สวัสดีครับผม','./handwriting/th/SOV_MuekMod.ttf', 50)\n",
    "out['image_obj']"
   ]
  },
  {
   "cell_type": "markdown",
   "id": "7648d31d",
   "metadata": {},
   "source": [
    "## SignGen เพิ่มขีดค่าเเบบสุ่ม ##"
   ]
  },
  {
   "cell_type": "code",
   "execution_count": 5,
   "id": "dc3c1ddb",
   "metadata": {},
   "outputs": [],
   "source": [
    "from PIL import Image, ImageDraw, ImageFont\n",
    "import random\n",
    "def signGen3(list_position, message, font_name, size): #list:list_position, message:str, font_name:str, size:int\n",
    "    # init image size\n",
    "    W = list_position[1] - list_position[0]\n",
    "    H = list_position[3] - list_position[2]\n",
    "    image_size = (W, H)\n",
    "    # load font\n",
    "    font = ImageFont.truetype(font_name, size)\n",
    "    if font.getsize(message)[0] < W: # Normal Case\n",
    "        # create blank image\n",
    "        image = Image.new('RGB', image_size, 'white')\n",
    "        draw = ImageDraw.Draw(image)\n",
    "        _, _, w, h = draw.textbbox((0, 0), message, font=font)\n",
    "        draw.text(((image_size[0]-w)/2, (image_size[1]-h)/2), message, font=font, fill='black')\n",
    "        #write text\n",
    "        y = (image_size[1]-h)//2 + h  # กำหนดตำแหน่ง y ให้เริ่มที่ด้านล่างของข้อความ\n",
    "        y_offset = random.randint(-10, 5)  # เพิ่มการสุ่มของเส้นใต้\n",
    "        draw.line([(image_size[0]-w)//2, y + y_offset, (image_size[0]+w)//2, y + y_offset], fill='black', width=2)  # เพิ่มเส้นใต้ข้อความ\n",
    "    else: # Case Text too long\n",
    "        start_size = 1\n",
    "        # create blank image\n",
    "        image = Image.new('RGB', image_size, 'white')\n",
    "        draw = ImageDraw.Draw(image)\n",
    "        font = ImageFont.truetype(font_name, start_size)\n",
    "        while font.getsize(message)[0] < W:\n",
    "        # iterate until the text size is just larger than the criteria\n",
    "            start_size += 1\n",
    "            font = ImageFont.truetype(font_name, start_size)\n",
    "        start_size -= 1\n",
    "        font = ImageFont.truetype(font_name, start_size)\n",
    "        _, _, w, h = draw.textbbox((0, 0), message, font=font)\n",
    "        draw.text(((image_size[0]-w)/2, (image_size[1]-h)/2), message, font=font, fill='black') \n",
    "        y = (image_size[1]-h)//2 + h  # กำหนดตำแหน่ง y ให้เริ่มที่ด้านล่างของข้อความกรณี resize รูป\n",
    "        y_offset = random.randint(-10, 5)  # เพิ่มการสุ่มของเส้นใต้กรณี resize รูป\n",
    "        draw.line([(image_size[0]-w)//2, y + y_offset, (image_size[0]+w)//2, y + y_offset], fill='black', width=2)\n",
    "    image2 = image.convert('RGBA')\n",
    "    # rotated image\n",
    "    rot = image2.rotate(random.choice(range(-8,8)), expand=1)\n",
    "    # a white image same size as rotated image\n",
    "    fff = Image.new('RGBA', rot.size, (255,)*4)\n",
    "    # create a composite image using the alpha layer of rot as a mask\n",
    "    out = Image.composite(rot, fff, rot)\n",
    "    \n",
    "    left = (out.size[0] - font.getsize(message)[0])/2\n",
    "    top = (out.size[1] - font.getsize(message)[1])/2\n",
    "    right = (out.size[0] + font.getsize(message)[0])/2\n",
    "    bottom = (out.size[1] + font.getsize(message)[1])/2\n",
    "    \n",
    "    out = out.crop((left, top-15, right, bottom+15))\n",
    "    return {'image_obj':out,'bb':list_position,'text':message,}"
   ]
  },
  {
   "cell_type": "code",
   "execution_count": 6,
   "id": "dd57fcda",
   "metadata": {},
   "outputs": [
    {
     "name": "stderr",
     "output_type": "stream",
     "text": [
      "C:\\Users\\alizw\\AppData\\Local\\Temp\\ipykernel_7616\\1764041613.py:10: DeprecationWarning: getsize is deprecated and will be removed in Pillow 10 (2023-07-01). Use getbbox or getlength instead.\n",
      "  if font.getsize(message)[0] < W: # Normal Case\n",
      "C:\\Users\\alizw\\AppData\\Local\\Temp\\ipykernel_7616\\1764041613.py:26: DeprecationWarning: getsize is deprecated and will be removed in Pillow 10 (2023-07-01). Use getbbox or getlength instead.\n",
      "  while font.getsize(message)[0] < W:\n",
      "C:\\Users\\alizw\\AppData\\Local\\Temp\\ipykernel_7616\\1764041613.py:45: DeprecationWarning: getsize is deprecated and will be removed in Pillow 10 (2023-07-01). Use getbbox or getlength instead.\n",
      "  left = (out.size[0] - font.getsize(message)[0])/2\n",
      "C:\\Users\\alizw\\AppData\\Local\\Temp\\ipykernel_7616\\1764041613.py:46: DeprecationWarning: getsize is deprecated and will be removed in Pillow 10 (2023-07-01). Use getbbox or getlength instead.\n",
      "  top = (out.size[1] - font.getsize(message)[1])/2\n",
      "C:\\Users\\alizw\\AppData\\Local\\Temp\\ipykernel_7616\\1764041613.py:47: DeprecationWarning: getsize is deprecated and will be removed in Pillow 10 (2023-07-01). Use getbbox or getlength instead.\n",
      "  right = (out.size[0] + font.getsize(message)[0])/2\n",
      "C:\\Users\\alizw\\AppData\\Local\\Temp\\ipykernel_7616\\1764041613.py:48: DeprecationWarning: getsize is deprecated and will be removed in Pillow 10 (2023-07-01). Use getbbox or getlength instead.\n",
      "  bottom = (out.size[1] + font.getsize(message)[1])/2\n"
     ]
    },
    {
     "data": {
      "image/png": "[encoded data removed]",
      "text/plain": [
       "<PIL.Image.Image image mode=RGBA size=198x62>"
      ]
     },
     "execution_count": 6,
     "metadata": {},
     "output_type": "execute_result"
    }
   ],
   "source": [
    "out= signGen3([0,200,0,200], 'สวัสดีครับผม123456789','./handwriting/th/SOV_MuekMod.ttf', 50)\n",
    "out['image_obj']"
   ]
  },
  {
   "cell_type": "markdown",
   "id": "85aa2246",
   "metadata": {},
   "source": [
    "## SignGen เพิ่มเส้นปะใต้คำ ##"
   ]
  },
  {
   "cell_type": "code",
   "execution_count": 139,
   "id": "c1c33b18",
   "metadata": {},
   "outputs": [],
   "source": [
    "from PIL import Image, ImageDraw, ImageFont\n",
    "import random\n",
    "\n",
    "def signGen4(list_position, message, font_name, size): \n",
    "    # Initiate image size\n",
    "    W = list_position[1] - list_position[0]\n",
    "    H = list_position[3] - list_position[2]\n",
    "    image_size = (W, H)\n",
    "    \n",
    "    # Load font\n",
    "    font = ImageFont.truetype(font_name, size)\n",
    "    if font.getsize(message)[0] < W: # Normal Case\n",
    "        # Create blank image\n",
    "        image = Image.new('RGB', image_size, 'white')\n",
    "        draw = ImageDraw.Draw(image)\n",
    "        _, _, w, h = draw.textbbox((0, 0), message, font=font)\n",
    "        templates = [\".\", \"-\", \"_\"]\n",
    "        selected_template = random.choice(templates)\n",
    "        if selected_template == \"_\":\n",
    "            distance = -30\n",
    "        elif selected_template == \".\":\n",
    "            distance = -25\n",
    "        else:\n",
    "            distance = -20\n",
    "        draw.text(((image_size[0]-w)/2, (image_size[1]-h)/2), message, font=font, fill='black') # Write text\n",
    "        draw.text(((image_size[0] - w) / 2, (image_size[1] + h + distance - h) / 2), selected_template*len(message), font=font, fill='black')\n",
    "    else: # Case Text too long\n",
    "        start_size = 1\n",
    "        # Create blank image\n",
    "        image = Image.new('RGB', image_size, 'white')\n",
    "        draw = ImageDraw.Draw(image)\n",
    "        font = ImageFont.truetype(font_name, start_size)\n",
    "        while font.getsize(message)[0] < W:\n",
    "            # Iterate until the text size is just larger than the criteria\n",
    "            start_size += 1\n",
    "            font = ImageFont.truetype(font_name, start_size)\n",
    "        start_size -= 1\n",
    "        font = ImageFont.truetype(font_name, start_size)\n",
    "        _, _, w, h = draw.textbbox((0, 0), message, font=font)\n",
    "        templates = [\".\", \"-\", \"_\"]\n",
    "        selected_template = random.choice(templates)\n",
    "        if selected_template == \"_\":\n",
    "            distance = -30\n",
    "        elif selected_template == \".\":\n",
    "            distance = -25\n",
    "        else:\n",
    "            distance = -20\n",
    "        draw.text(((image_size[0]-w)/2, (image_size[1]-h)/2), message, font=font, fill='black')\n",
    "        draw.text(((image_size[0] - w) / 2, (image_size[1] + h + distance - h) / 2), selected_template*len(message), font=font, fill='black')\n",
    "    image2 = image.convert('RGBA')\n",
    "    # Rotated image\n",
    "    rot = image2.rotate(random.choice(range(-8,8)), expand=1)\n",
    "    # A white image same size as rotated image\n",
    "    fff = Image.new('RGBA', rot.size, (255,)*4)\n",
    "    # Create a composite image using the alpha layer of rot as a mask\n",
    "    out = Image.composite(rot, fff, rot)\n",
    "    \n",
    "    left = (out.size[0] - font.getsize(message)[0])/2\n",
    "    top = (out.size[1] - font.getsize(message)[1])/2\n",
    "    right = (out.size[0] + font.getsize(message)[0])/2\n",
    "    bottom = (out.size[1] + font.getsize(message)[1])/2\n",
    "    \n",
    "    out = out.crop((left, top-15, right, bottom+15))\n",
    "    return {'image_obj':out,'bb':list_position,'text':message}\n"
   ]
  },
  {
   "cell_type": "code",
   "execution_count": 144,
   "id": "df7c28b2",
   "metadata": {},
   "outputs": [
    {
     "name": "stderr",
     "output_type": "stream",
     "text": [
      "C:\\Users\\alizw\\AppData\\Local\\Temp\\ipykernel_6968\\951693330.py:12: DeprecationWarning: getsize is deprecated and will be removed in Pillow 10 (2023-07-01). Use getbbox or getlength instead.\n",
      "  if font.getsize(message)[0] < W: # Normal Case\n",
      "C:\\Users\\alizw\\AppData\\Local\\Temp\\ipykernel_6968\\951693330.py:58: DeprecationWarning: getsize is deprecated and will be removed in Pillow 10 (2023-07-01). Use getbbox or getlength instead.\n",
      "  left = (out.size[0] - font.getsize(message)[0])/2\n",
      "C:\\Users\\alizw\\AppData\\Local\\Temp\\ipykernel_6968\\951693330.py:59: DeprecationWarning: getsize is deprecated and will be removed in Pillow 10 (2023-07-01). Use getbbox or getlength instead.\n",
      "  top = (out.size[1] - font.getsize(message)[1])/2\n",
      "C:\\Users\\alizw\\AppData\\Local\\Temp\\ipykernel_6968\\951693330.py:60: DeprecationWarning: getsize is deprecated and will be removed in Pillow 10 (2023-07-01). Use getbbox or getlength instead.\n",
      "  right = (out.size[0] + font.getsize(message)[0])/2\n",
      "C:\\Users\\alizw\\AppData\\Local\\Temp\\ipykernel_6968\\951693330.py:61: DeprecationWarning: getsize is deprecated and will be removed in Pillow 10 (2023-07-01). Use getbbox or getlength instead.\n",
      "  bottom = (out.size[1] + font.getsize(message)[1])/2\n"
     ]
    },
    {
     "data": {
      "image/png": "[encoded data removed]",
      "text/plain": [
       "<PIL.Image.Image image mode=RGBA size=172x80>"
      ]
     },
     "metadata": {},
     "output_type": "display_data"
    },
    {
     "data": {
      "image/png": "[encoded data removed]",
      "text/plain": [
       "<PIL.Image.Image image mode=RGBA size=172x80>"
      ]
     },
     "metadata": {},
     "output_type": "display_data"
    },
    {
     "data": {
      "image/png": "[encoded data removed]",
      "text/plain": [
       "<PIL.Image.Image image mode=RGBA size=170x82>"
      ]
     },
     "metadata": {},
     "output_type": "display_data"
    },
    {
     "data": {
      "image/png": "[encoded data removed]",
      "text/plain": [
       "<PIL.Image.Image image mode=RGBA size=170x82>"
      ]
     },
     "metadata": {},
     "output_type": "display_data"
    },
    {
     "data": {
      "image/png": "[encoded data removed]",
      "text/plain": [
       "<PIL.Image.Image image mode=RGBA size=170x82>"
      ]
     },
     "metadata": {},
     "output_type": "display_data"
    }
   ],
   "source": [
    "num_images = 5\n",
    "\n",
    "for i in range(num_images):\n",
    "    out = signGen4([0,300,0,300], 'สวัสดีครับผม','./handwriting/th/SOV_MuekMod.ttf', 50)\n",
    "    display(out['image_obj'])"
   ]
  },
  {
   "cell_type": "code",
   "execution_count": null,
   "id": "1d92af82",
   "metadata": {},
   "outputs": [],
   "source": []
  }
 ],
 "metadata": {
  "kernelspec": {
   "display_name": "Python 3 (ipykernel)",
   "language": "python",
   "name": "python3"
  },
  "language_info": {
   "codemirror_mode": {
    "name": "ipython",
    "version": 3
   },
   "file_extension": ".py",
   "mimetype": "text/x-python",
   "name": "python",
   "nbconvert_exporter": "python",
   "pygments_lexer": "ipython3",
   "version": "3.11.5"
  }
 },
 "nbformat": 4,
 "nbformat_minor": 5
}
