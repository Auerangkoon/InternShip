{
 "cells": [
  {
   "cell_type": "code",
   "execution_count": 4,
   "id": "2ef30b30",
   "metadata": {},
   "outputs": [
    {
     "name": "stdout",
     "output_type": "stream",
     "text": [
      "Requirement already satisfied: demoji in c:\\users\\alizw\\anaconda3\\lib\\site-packages (1.1.0)\n"
     ]
    }
   ],
   "source": [
    "!pip install demoji"
   ]
  },
  {
   "cell_type": "code",
   "execution_count": 1,
   "id": "64bb91b4",
   "metadata": {},
   "outputs": [
    {
     "name": "stdout",
     "output_type": "stream",
     "text": [
      "Requirement already satisfied: emoji in c:\\users\\alizw\\anaconda3\\lib\\site-packages (2.5.0)\n"
     ]
    }
   ],
   "source": [
    "!pip install emoji"
   ]
  },
  {
   "cell_type": "code",
   "execution_count": 2,
   "id": "f51db064",
   "metadata": {},
   "outputs": [],
   "source": [
    "import re\n",
    "import sys\n",
    "import os.path\n",
    "# https://stackoverflow.com/a/49146722/330558\n",
    "def remove_emoji(string):\n",
    "    emoji_pattern = re.compile(\"[\"\n",
    "                           u\"\\U0001F600-\\U0001F64F\"  # emoticons\n",
    "                           u\"\\U0001F300-\\U0001F5FF\"  # symbols & pictographs\n",
    "                           u\"\\U0001F680-\\U0001F6FF\"  # transport & map symbols\n",
    "                           u\"\\U0001F1E0-\\U0001F1FF\"  # flags (iOS)\n",
    "                           u\"\\U00002702-\\U000027B0\"\n",
    "                           u\"\\U000024C2-\\U0001F251\"\n",
    "                           \"]+\", flags=re.UNICODE)\n",
    "    return emoji_pattern.sub(r'', str(string))\n",
    "# import emoji\n",
    "\n",
    "# def remove_emoji(text):\n",
    "#     return emoji.replace_emoji(str(text), replace='')\n",
    "#     return emoji.get_emoji_regexp().sub(u'', str(text))\n",
    "# if __name__ == '__main__':\n",
    "#     text = open(sys.argv[1], encoding=\"utf-8\").readlines()\n",
    "#     text = remove_emoji(text)\n",
    "#     print(text)"
   ]
  },
  {
   "cell_type": "code",
   "execution_count": 6,
   "id": "79ca4a67",
   "metadata": {
    "scrolled": true
   },
   "outputs": [],
   "source": [
    "name_of_file = \"multi_news_clean\"\n",
    "completeName = name_of_file+\".txt\"\n",
    "with open(\"multi_news.txt\",\"r\",encoding=\"utf-8\") as f, open(completeName, 'w',encoding=\"utf-8\") as f1:\n",
    "    text = f.readline()\n",
    "    while (text):\n",
    "        text = remove_emoji(text)\n",
    "        f1.write(text)\n",
    "        text = f.readline()\n",
    "f.close()\n",
    "f1.close()"
   ]
  },
  {
   "cell_type": "code",
   "execution_count": null,
   "id": "35b3dc3c",
   "metadata": {},
   "outputs": [],
   "source": []
  }
 ],
 "metadata": {
  "kernelspec": {
   "display_name": "Python 3 (ipykernel)",
   "language": "python",
   "name": "python3"
  },
  "language_info": {
   "codemirror_mode": {
    "name": "ipython",
    "version": 3
   },
   "file_extension": ".py",
   "mimetype": "text/x-python",
   "name": "python",
   "nbconvert_exporter": "python",
   "pygments_lexer": "ipython3",
   "version": "3.10.9"
  }
 },
 "nbformat": 4,
 "nbformat_minor": 5
}
